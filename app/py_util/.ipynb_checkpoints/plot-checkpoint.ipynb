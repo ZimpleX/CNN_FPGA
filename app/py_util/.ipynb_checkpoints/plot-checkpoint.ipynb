{
 "cells": [
  {
   "cell_type": "markdown",
   "metadata": {},
   "source": [
    "### FPGA Submission\n",
    "We should compare CaP with OaA layer by layer. \n",
    "Two plots, AlexNet-AlexNet\\* and VGG16-VGG16\\*\n",
    "\n",
    "*Keyword*: modular accelerator for frequency domain convolution on FPGA\n",
    "Go for simulation, then you have different device."
   ]
  },
  {
   "cell_type": "code",
   "execution_count": 2,
   "metadata": {
    "collapsed": true,
    "scrolled": true
   },
   "outputs": [],
   "source": [
    "import numpy as np"
   ]
  },
  {
   "cell_type": "markdown",
   "metadata": {},
   "source": [
    "## Results of AlexNet and AlexNet\\* (Computation complexity)\n",
    "### Notation: \n",
    "\\# ---------------\n",
    "\n",
    "data need to recompute\n",
    "\n",
    "\\# ---------------\n",
    "\n",
    "### NOTE!!!\n",
    "#### in the throughput estimation. VGG [4,8,16,32,64], CaP is much worse than VGG [64], CaP!!! --> Currently not supporting multiple FFT sizes for different layers.\n",
    "#### Throughput can be affected greatly by the f_in, f_out. e.g., f_in=10, f_out=30 is much worse than f_in=16,f_out=16. We should do fine-grained design space exploration on f_in and f_out."
   ]
  },
  {
   "cell_type": "markdown",
   "metadata": {},
   "source": [
    "#### Plot 1\n",
    "\n",
    "* CNN (`*.yaml`):\n",
    "    * AlexNet and AlexNet_star\n",
    "* Algo (`*.yaml`):\n",
    "    * cap_n64\n",
    "    * oaa_mixed\n",
    "    * oaa_n64\n",
    "    * oaa_n32\n",
    "    * oaa_n16\n",
    "    * oaa_n08\n",
    "    * oaa_n04"
   ]
  },
  {
   "cell_type": "code",
   "execution_count": 35,
   "metadata": {
    "collapsed": true
   },
   "outputs": [],
   "source": [
    "from pylab import *\n",
    "\n",
    "y_axis_name = ('OPT: CaP N-auto','BL: OaA N-auto',\n",
    "               'BL: OaA N-64','BL: OaA N-32','BL: OaA N-16',\n",
    "               'BL: OaA N-8','BL: OaA N-4')\n",
    "\n",
    "rcParams['font.family'] = 'Times New Roman'\n",
    "\n",
    "labelsize=20\n",
    "titlesize=20\n",
    "legendsize=15"
   ]
  },
  {
   "cell_type": "markdown",
   "metadata": {},
   "source": [
    "## Results of AlexNet and AlexNet\\* (Computation complexity)"
   ]
  },
  {
   "cell_type": "code",
   "execution_count": 39,
   "metadata": {
    "collapsed": false
   },
   "outputs": [],
   "source": [
    "# blue --> AlexNet\n",
    "val_raw1 = np.array([1.211,1.388,11.495,3.334,2.669,3.591,4.090])\n",
    "pos1 = arange(len(y_axis_name))+ .4\n",
    "# orange --> AlexNet*\n",
    "val_raw2 = np.array([1.688,2.396,11.495,4.012,5.109,4.510,5.593])\n",
    "pos2 = arange(len(y_axis_name))+ .6\n",
    "\n",
    "val1 = val_raw1/val_raw1[0]\n",
    "val2 = val_raw2/val_raw2[0]\n",
    "avg = (val1+val2)/(val1[0]+val2[0])\n",
    "\n",
    "\n",
    "fig=figure(1)\n",
    "ax1 = fig.add_subplot(1, 1, 1)\n",
    "ax2 = ax1.twiny()\n",
    "\n",
    "ax1.barh(pos1,val1, 0.2,align='center')\n",
    "ax1.barh(pos2,val2, 0.2,align='center')\n",
    "\n",
    "ax1.set_xlim([0,4])\n",
    "ax2.set_xlim([0,4])\n",
    "\n",
    "ax1.set_xticks([0,1,2,3,4])\n",
    "yticks(arange(len(y_axis_name))+.5, y_axis_name)\n",
    "ax1.tick_params(labelsize=labelsize)\n",
    "ax2.tick_params(labelsize=labelsize)\n",
    "ax1.set_xlabel('Number of Operations (Normalized)', fontsize=labelsize)\n",
    "ax1.plot(avg,pos1,marker='x',color='r',markersize=12)\n",
    "\n",
    "\n",
    "ax1.legend(['Average','AlexNet','AlexNet*'], fontsize=legendsize,\n",
    "          loc='center left', bbox_to_anchor=(1, 0.5))\n",
    "grid(linestyle='--')\n",
    "\n",
    "gca().invert_yaxis()\n",
    "\n",
    "#show()\n",
    "#fig.savefig('../plots/ReConFig_comp_complexity.pdf')\n",
    "plt.savefig('../plots/ReConFig_comp_complexity.pdf',format='pdf',dpi=300,bbox_inches='tight')"
   ]
  },
  {
   "cell_type": "markdown",
   "metadata": {},
   "source": [
    "## Results of VGG16 and VGG16\\* (Computation complexity)"
   ]
  },
  {
   "cell_type": "code",
   "execution_count": 42,
   "metadata": {
    "collapsed": false
   },
   "outputs": [],
   "source": [
    "# VGG16\n",
    "val_raw1 = np.array([14.790,16.300,52.623,20.776,16.300,25.385,48.831])\n",
    "pos1 = np.arange(len(y_axis_name))+ .4\n",
    "# VGG16*\n",
    "val_raw2 = np.array([20.221,29.094,72.557,43.550,31.880,32.700,68.706])\n",
    "pos2 = np.arange(len(y_axis_name))+ .6\n",
    "\n",
    "\n",
    "val1 = val_raw1/val_raw1[0]\n",
    "val2 = val_raw2/val_raw2[0]\n",
    "avg = (val1+val2)/(val1[0]+val2[0])\n",
    "\n",
    "fig=figure(1)\n",
    "ax1 = fig.add_subplot(1, 1, 1)\n",
    "ax2 = ax1.twiny()\n",
    "ax1.barh(pos1,val1, 0.2,align='center',color='g')\n",
    "ax1.barh(pos2,val2, 0.2,align='center',color='r')\n",
    "\n",
    "ax1.set_xlim([0,4])\n",
    "ax2.set_xlim([0,4])\n",
    "\n",
    "ax1.set_xticks([0,1,2,3,4])\n",
    "yticks(arange(len(y_axis_name))+.5, y_axis_name, fontsize=labelsize)\n",
    "ax1.set_xlabel('Number of Operations (Normalized)',fontsize=labelsize)\n",
    "ax1.tick_params(labelsize=labelsize)\n",
    "ax2.tick_params(labelsize=labelsize)\n",
    "ax1.plot(avg,pos1,marker='x',color='b',markersize=12)\n",
    "\n",
    "ax1.legend(['Average','AlexNet','AlexNet*'], fontsize=legendsize,\n",
    "          loc='center left', bbox_to_anchor=(1, 0.5))\n",
    "grid(linestyle='--')\n",
    "\n",
    "gca().invert_yaxis()\n",
    "\n",
    "#show()\n",
    "plt.savefig('../plots/ReConFig_comp_complexity_2.pdf',format='pdf',dpi=300,bbox_inches='tight')"
   ]
  },
  {
   "cell_type": "markdown",
   "metadata": {},
   "source": [
    "## Results of AlexNet and AlexNet\\* (Throughput)"
   ]
  },
  {
   "cell_type": "code",
   "execution_count": 10,
   "metadata": {
    "collapsed": true
   },
   "outputs": [],
   "source": [
    "y_axis_name_2 = ['OPT: CaP N-auto,H-auto','BL: CaP N-auto,H-man','BL: OaA N-auto,H-auto',\n",
    "               'BL: OaA N-64,H-auto','BL: OaA N-32,H-auto','BL: OaA N-16,H-auto',\n",
    "               'BL: OaA N-8,H-auto','BL: OaA N-4,H-auto']"
   ]
  },
  {
   "cell_type": "code",
   "execution_count": 46,
   "metadata": {
    "collapsed": false
   },
   "outputs": [],
   "source": [
    "# blue --> AlexNet\n",
    "val_raw1 = np.array([274.5,227.4,195.9,33.9,159.0,112.5,90.1,43.0])\n",
    "pos1 = np.arange(len(y_axis_name_2))+ .4\n",
    "# orange --> AlexNet*\n",
    "val_raw2 = np.array([283.2,226.5,175,48.5,188.5,98.7,98.9,45.3])\n",
    "pos2 = np.arange(len(y_axis_name_2))+ .6\n",
    "\n",
    "val1 = val_raw1/val_raw1[0]\n",
    "val2 = val_raw2/val_raw2[0]\n",
    "avg = (val1 + val2)/(val1[0]+val2[0])\n",
    "\n",
    "fig=figure(1)\n",
    "ax1 = fig.add_subplot(1, 1, 1)\n",
    "ax2 = ax1.twiny()\n",
    "\n",
    "ax1.barh(pos1,val1, 0.2,align='center')\n",
    "ax1.barh(pos2,val2, 0.2,align='center')\n",
    "\n",
    "ax1.set_xlim([0,1.1])\n",
    "ax2.set_xlim([0,1.1])\n",
    "\n",
    "ax1.set_xticks([0,0.2,0.4,0.6,0.8,1])\n",
    "ax2.set_xticks([0,0.2,0.4,0.6,0.8,1])\n",
    "ax1.tick_params(labelsize=labelsize)\n",
    "ax2.tick_params(labelsize=labelsize)\n",
    "yticks(arange(len(y_axis_name_2))+.5, y_axis_name_2)\n",
    "ax1.set_xlabel('Throughput (Normalized)', fontsize=labelsize)\n",
    "\n",
    "grid(linestyle='--')\n",
    "\n",
    "# ====================\n",
    "# RESOURCE CONSUMPTION\n",
    "# ====================\n",
    "AlexNet_logic = np.array([25,27.0,40,25,40,20,36,35])\n",
    "AlexNet_star_logic = np.array([25,27.0,95,25,40,20,36,35])\n",
    "\n",
    "AlexNet_logic /= AlexNet_logic.max()\n",
    "\n",
    "ax1.plot(avg,pos1,marker='x',color='r',markersize=12)\n",
    "\n",
    "ax1.legend(['Average','AlexNet','AlexNet*'], fontsize=legendsize,\n",
    "          loc='center left', bbox_to_anchor=(1, 0.5))\n",
    "\n",
    "\n",
    "gca().invert_yaxis()\n",
    "\n",
    "#show()\n",
    "plt.savefig('../plots/ReConFig_throughput.pdf',format='pdf',dpi=300,bbox_inches='tight')"
   ]
  },
  {
   "cell_type": "markdown",
   "metadata": {},
   "source": [
    "## Results of VGG16 and VGG16\\* (Throughput)"
   ]
  },
  {
   "cell_type": "code",
   "execution_count": 49,
   "metadata": {
    "collapsed": false
   },
   "outputs": [],
   "source": [
    "# VGG16\n",
    "val_raw1 = np.array([1015.1,880.0,1015.1,93.5,475.3,1015.1,176.4,22.7])\n",
    "pos1 = np.arange(len(y_axis_name_2))+ .4\n",
    "# VGG16*\n",
    "val_raw2 = np.array([935.4,820.0,410.0,91.6,318.8,722.3,186.4,21.9])\n",
    "pos2 = np.arange(len(y_axis_name_2))+ .6\n",
    "\n",
    "\n",
    "val1 = val_raw1/val_raw1[0]\n",
    "val2 = val_raw2/val_raw2[0]\n",
    "avg = (val1+val2)/(val1[0]+val2[0])\n",
    "\n",
    "fig=figure(1)\n",
    "ax1 = fig.add_subplot(1, 1, 1)\n",
    "ax2 = ax1.twiny()\n",
    "\n",
    "ax1.barh(pos1,val1, 0.2,align='center', color='g')\n",
    "ax1.barh(pos2,val2, 0.2,align='center', color='r')\n",
    "\n",
    "ax1.set_xlim([0,1.1])\n",
    "ax2.set_xlim([0,1.1])\n",
    "\n",
    "ax1.set_xticks([0,0.2,0.4,0.6,0.8,1.0])\n",
    "ax1.tick_params(labelsize=labelsize)\n",
    "ax2.tick_params(labelsize=labelsize)\n",
    "yticks(arange(len(y_axis_name_2))+.5, y_axis_name_2, fontsize=labelsize)\n",
    "ax1.set_xlabel('Throughput (Normalized)', fontsize=labelsize)\n",
    "\n",
    "ax1.plot(avg,pos1,marker='x',color='b',markersize=12)\n",
    "\n",
    "ax1.legend(['Average','VGG16','VGG16*'], \n",
    "           fontsize=legendsize,loc='center left', bbox_to_anchor=(1, 0.5))\n",
    "grid(linestyle='--')\n",
    "\n",
    "gca().invert_yaxis()\n",
    "\n",
    "#show()\n",
    "plt.savefig('../plots/ReConFig_throughput_2.pdf',format='pdf',dpi=300,bbox_inches='tight')"
   ]
  },
  {
   "cell_type": "markdown",
   "metadata": {
    "collapsed": true
   },
   "source": [
    "### Generic FDCNN (Performance Model)\n",
    "#### Notation:\n",
    "* $BW$: unit is read word per clk\n",
    "* $MEM$: bytes\n",
    "* $DSP$: None\n",
    "\n",
    "#### Plot:\n",
    "* Asymptotic 1: $(l_{img}^2\\cdot f_{in}\\cdot f_{out})\\times (2\\cdot \\sqrt{BytePerCpxWord})\\times \\Big(\\frac{N}{BW\\cdot \\sqrt{MEM}}\\Big)$\n",
    "\n",
    "$0.00013$\n",
    "\n",
    "* Asymptotic 2: $(l_{img}^2\\cdot f_{in}\\cdot f_{out})\\times (DspPerCpxMac)\\times \\Big(\\frac{1}{DSP}\\cdot \\frac{N^2}{(N-l_{kern}+1)^2}\\Big)$\n",
    "\n",
    "$\\frac{1}{256}\\cdot f_{in}\\cdot f_{out}\\cdot l_{img}^2\\cdot \\frac{N^2}{(N-l_{kern}+1)^2}$\n",
    "\n",
    "#### Normalized:\n",
    "* Asymptotic 1': $\\Big(\\frac{DSP}{BW\\cdot \\sqrt{MEM}}\\Big)\\times N$\n",
    "* Asymptotic 2': $\\Big(\\frac{DspPerCpxMac}{2\\cdot \\sqrt{BytePerCpxWord}}\\Big)\\times \\Big(\\frac{N}{N-l_{kern}+1}\\Big)^2$\n",
    "\n",
    "### Roofline Model is dreived."
   ]
  },
  {
   "cell_type": "code",
   "execution_count": 11,
   "metadata": {
    "collapsed": false
   },
   "outputs": [
    {
     "data": {
      "image/png": "[encoded data removed]",
      "text/plain": [
       "<matplotlib.figure.Figure at 0x11703fcd0>"
      ]
     },
     "metadata": {},
     "output_type": "display_data"
    }
   ],
   "source": [
    "\"\"\"\n",
    "ROOFLINE MODEL:\n",
    "* Redline: computation bound --> given some amount of logic resources, the max throughput assuming infinite BW,mem\n",
    "* Blueline: communication bound --> ignore the complexity for different N, the max throughput assuming some amount of logic,BW and mem.\n",
    "\"\"\"\n",
    "\n",
    "import numpy as np\n",
    "import matplotlib.pyplot as plt\n",
    "\n",
    "from matplotlib import rc\n",
    "rc('font',**{'family':'serif','serif':['Times New Roman']})\n",
    "\n",
    "import matplotlib as mpl\n",
    "mpl.rcParams['xtick.labelsize'] = 12\n",
    "mpl.rcParams['ytick.labelsize'] = 12\n",
    "mpl.rcParams['legend.fontsize'] = 12\n",
    "mpl.rcParams['pdf.fonttype'] = 42\n",
    "mpl.rcParams['ps.fonttype'] = 42\n",
    "\n",
    "from matplotlib.pyplot import cm\n",
    "\n",
    "cmap_autumn = plt.get_cmap('autumn')\n",
    "cmap_R = plt.get_cmap('Oranges')\n",
    "cmap_G = plt.get_cmap('Greens')\n",
    "cmap_B = plt.get_cmap('Blues')\n",
    "\n",
    "num_color = 10\n",
    "colors_autumn = [cmap_autumn(i) for i in np.linspace(0,1,num_color)]\n",
    "colors_R = [cmap_R(i) for i in np.linspace(0.1,0.8,num_color)]\n",
    "colors_G = [cmap_G(i) for i in np.linspace(0.1,0.8,num_color)]\n",
    "colors_B = [cmap_B(i) for i in np.linspace(0.1,0.8,num_color)]\n",
    "\n",
    "\n",
    "maxn = 70\n",
    "\n",
    "DSP = 256\n",
    "BW = 12      # pixels per clk\n",
    "MEM = 4.1e6      # bytes -- normalized to power of 2\n",
    "\n",
    "DspPerPixel = 1\n",
    "BytePerCpxWord = 4 # for kernel, so we need cpx word\n",
    "\n",
    "asymp1 = lambda N,k,device_const: N*(device_const**-1.*DSP/BW/MEM**0.5)*(2*BytePerCpxWord**0.5/DspPerPixel)\n",
    "asymp2 = lambda N,k: (N/(N-k+1))**2\n",
    "\n",
    "N_range = np.arange(5,maxn)\n",
    "k = 3.0\n",
    "y2 = [1./asymp2(Ni,k) for Ni in N_range]\n",
    "\n",
    "line2 = [N_range,y2,'r']\n",
    "multi_series = line2\n",
    "for device_const in [0.25,0.5,0.75,1.0,1.25,1.5,1.75,2.0,2.25]:\n",
    "    y1 = [1./asymp1(Ni,None,device_const) for Ni in N_range]\n",
    "    multi_series += [N_range,y1,'b']\n",
    "\n",
    "fig,ax = plt.subplots()\n",
    "\n",
    "plt.plot(*multi_series)\n",
    "\n",
    "\n",
    "for N in [8,16,32,64]:\n",
    "    ax.axvline(N,linestyle='dashed')\n",
    "ax.set_xlabel('FFT size N',fontsize=16)\n",
    "ax.set_ylabel('Throughput (Normalized)',fontsize=16)\n",
    "\n",
    "plt.text(35,0.10,'0.25',size=12)\n",
    "plt.text(35,0.26,'0.50',size=12)\n",
    "plt.text(35,0.41,'0.75',size=12)\n",
    "plt.text(32.5,0.57,'1.0'+r'$\\cdot K_{Stratix-V}$',size=12)\n",
    "plt.text(35,0.71,'1.25',size=12)\n",
    "plt.text(35,0.85,'1.50',size=12)\n",
    "plt.text(38,0.95,'1.75',size=12)\n",
    "plt.text(45,0.95,'2.0',size=12)\n",
    "plt.text(50,0.95,'2.25',size=12)\n",
    "\n",
    "plt.text(5,0.57,'a',color=colors_R[8],size=16)\n",
    "plt.text(12,0.76,'b',color=colors_R[8],size=16)\n",
    "plt.text(29,0.895,'c',color=colors_R[8],size=16)\n",
    "\n",
    "plt.text(12,0.57,'b\\'',color=colors_B[9],size=16)\n",
    "plt.text(29,0.70,'c\\'',color=colors_B[9],size=16)\n",
    "\n",
    "\n",
    "plt.scatter(16,0.767,400,marker='*',color=colors_R[8],zorder=100)\n",
    "\n",
    "plt.scatter(8,0.57,100,marker='o',color=colors_R[8],zorder=100)\n",
    "plt.scatter(32,0.88,100,marker='o',color=colors_R[8],zorder=100)\n",
    "\n",
    "plt.scatter(16,0.57,100,marker='D',color=colors_B[8],zorder=100)\n",
    "plt.scatter(32,0.767,100,marker='D',color=colors_B[8],zorder=100)\n",
    "plt.scatter(64,0.88,100,marker='D',color=colors_B[8],zorder=100)\n",
    "\n",
    "ax.legend(['Comp bound','Comm bound'],handlelength=1)#,loc='center left')#,bbox_to_anchor=(0.67, 0.75))\n",
    "handles,labels=ax.get_legend_handles_labels()\n",
    "axes = plt.gca()\n",
    "axes.set_ylim([0,1])\n",
    "axes.set_xlim([0,maxn])\n",
    "plt.show()\n",
    "\n",
    "#plt.savefig('../writing/FPGA18_acc/design_chart.pdf',format='pdf',dpi=300)"
   ]
  },
  {
   "cell_type": "code",
   "execution_count": 20,
   "metadata": {
    "collapsed": false
   },
   "outputs": [
    {
     "data": {
      "image/png": "[encoded data removed]",
      "text/plain": [
       "<matplotlib.figure.Figure at 0x11716de90>"
      ]
     },
     "metadata": {},
     "output_type": "display_data"
    }
   ],
   "source": [
    "\"\"\"\n",
    "ROOFLINE MODEL:\n",
    "* Redline: computation bound --> given some amount of logic resources, the max throughput assuming infinite BW,mem\n",
    "* Blueline: communication bound --> ignore the complexity for different N, the max throughput assuming some amount of logic,BW and mem.\n",
    "\"\"\"\n",
    "\n",
    "import numpy as np\n",
    "import matplotlib.pyplot as plt\n",
    "\n",
    "from matplotlib import rc\n",
    "rc('font',**{'family':'serif','serif':['Times New Roman']})\n",
    "\n",
    "import matplotlib as mpl\n",
    "mpl.rcParams['xtick.labelsize'] = 12\n",
    "mpl.rcParams['ytick.labelsize'] = 12\n",
    "mpl.rcParams['legend.fontsize'] = 12\n",
    "mpl.rcParams['pdf.fonttype'] = 42\n",
    "mpl.rcParams['ps.fonttype'] = 42\n",
    "\n",
    "\n",
    "from matplotlib.pyplot import cm\n",
    "\n",
    "cmap_autumn = plt.get_cmap('autumn')\n",
    "cmap_R = plt.get_cmap('Oranges')\n",
    "cmap_G = plt.get_cmap('Greens')\n",
    "cmap_B = plt.get_cmap('Blues')\n",
    "\n",
    "num_color = 10\n",
    "colors_autumn = [cmap_autumn(i) for i in np.linspace(0,1,num_color)]\n",
    "colors_R = [cmap_R(i) for i in np.linspace(0.1,0.8,num_color)]\n",
    "colors_G = [cmap_G(i) for i in np.linspace(0.1,0.8,num_color)]\n",
    "colors_B = [cmap_B(i) for i in np.linspace(0.1,0.8,num_color)]\n",
    "\n",
    "maxn = 70\n",
    "\n",
    "\n",
    "DSP = 256\n",
    "BW = 12      # pixels per clk\n",
    "MEM = 4.1e6      # bytes\n",
    "\n",
    "DspPerPixel = 1\n",
    "BytePerCpxWord = 4 # for kernel, so we need cpx word\n",
    "\n",
    "asymp1 = lambda N,k,device_const: N*(device_const**-1.*DSP/BW/MEM**0.5)*(2*BytePerCpxWord**0.5/DspPerPixel)\n",
    "asymp2 = lambda N,k: (N/(N-k+1))**2\n",
    "\n",
    "\n",
    "N_range = np.arange(5,maxn)\n",
    "k = 3.0\n",
    "y2 = [1./asymp2(Ni,k) for Ni in N_range]\n",
    "\n",
    "fig,ax = plt.subplots()\n",
    "\n",
    "line2 = [N_range,y2,'r-']\n",
    "multi_series = line2\n",
    "for device_const in [0.25,0.5,0.75,1.0,1.25,1.5,1.75,2.0,2.25]:\n",
    "    y1 = [1./asymp1(Ni,None,device_const) for Ni in N_range]\n",
    "    if device_const == 1.:\n",
    "        multi_series += [N_range,y1,'b-']\n",
    "    else:\n",
    "        multi_series += [N_range,y1,'b--']\n",
    "\n",
    "\n",
    "plt.plot(*multi_series)\n",
    "\n",
    "for N in [8,16,32,64]:\n",
    "    ax.axvline(N,linestyle='dashed',dashes=(10,10))\n",
    "\n",
    "ax.set_xlabel('FFT size N',fontsize=16)\n",
    "ax.set_ylabel('Throughput (Normalized)',fontsize=16)\n",
    "\n",
    "plt.text(35,0.10,'0.25',size=12)\n",
    "plt.text(35,0.26,'0.50',size=12)\n",
    "plt.text(35,0.41,'0.75',size=12)\n",
    "plt.text(32.5,0.57,'1.0'+r'$\\cdot K_{Stratix-V}$',size=12)\n",
    "plt.text(35,0.71,'1.25',size=12)\n",
    "plt.text(35,0.85,'1.50',size=12)\n",
    "plt.text(38,0.95,'1.75',size=12)\n",
    "plt.text(45,0.95,'2.0',size=12)\n",
    "plt.text(50,0.95,'2.25',size=12)\n",
    "\n",
    "\n",
    "\n",
    "\n",
    "lw=3\n",
    "max_AlexNet = 984.37\n",
    "max_VGG16 = 835.59\n",
    "max_FCN16s = 781.91\n",
    "\n",
    "### AlexNet data\n",
    "ax.scatter([8,16,32,64],np.array([439.86,780.62,655.50,343.05])/max_AlexNet,\n",
    "            200,marker='x',color=colors_R[8],zorder=100,linewidth=lw,label='AlexNet')\n",
    "### VGG data\n",
    "ax.scatter([8,16,32,64],np.array([458.13,669.06,552.62,279.3])/max_VGG16,\n",
    "           200,marker='+',color=colors_G[8],zorder=100,linewidth=lw,label='VGG16')\n",
    "### FCN16s data\n",
    "ax.scatter([8,16,32,64],np.array([304.31,552.06,504.95,262.1])/max_FCN16s,\n",
    "           200,marker='1',color=colors_B[8],zorder=100,linewidth=lw,label='FCN-16s')\n",
    "\n",
    "ax.legend(bbox_to_anchor=(1., 1.03))\n",
    "\n",
    "axes = plt.gca()\n",
    "axes.set_ylim([0,1])\n",
    "axes.set_xlim([0,maxn])\n",
    "plt.show()\n",
    "\n",
    "#plt.savefig('../writing/FPGA18_acc/design_chart_verify.pdf',format='pdf',dpi=300,bbox_inches='tight')"
   ]
  },
  {
   "cell_type": "markdown",
   "metadata": {
    "collapsed": false
   },
   "source": [
    "### import numpy as np\n",
    "import matplotlib.pyplot as plt\n",
    "\n",
    "alpha = 1.0\n",
    "beta = 1.0\n",
    "mu = 1.0\n",
    "\n",
    "DSP = 256\n",
    "BW = 12.5      # pixels per clk\n",
    "MEM = 4e6      # bytes\n",
    "\n",
    "DspPerCpxMac = 1\n",
    "BytePerCpxWord = 4\n",
    "\n",
    "actual = lambda N,k,alpha,beta,mu:\\\n",
    "            (N/(N-k+1))**2*(BytePerCpxWord/MEM)**0.5\\\n",
    "            *N/min(0.5*(beta*BW),(alpha*DSP)/DspPerCpxMac*(BytePerCpxWord/(mu*MEM))**0.5*N)\n",
    "        \n",
    "N_range = np.arange(5,64)\n",
    "k = 3.\n",
    "\n",
    "multi_series = []\n",
    "for alpha in [1.0]:#(np.arange(10)+1.)/10.:\n",
    "    y = [1./actual(Ni,k,alpha,beta,mu) for Ni in N_range]\n",
    "    multi_series += [N_range,y,'b']\n",
    "\n",
    "plt.clf()\n",
    "plt.plot(*multi_series)\n",
    "\n",
    "plt.axvline(8)\n",
    "plt.axvline(16)\n",
    "plt.axvline(32)\n",
    "plt.ylabel('-')\n",
    "axes = plt.gca()\n",
    "axes.set_ylim([0,250])\n",
    "plt.show()"
   ]
  },
  {
   "cell_type": "markdown",
   "metadata": {},
   "source": [
    "### CaP Effect"
   ]
  },
  {
   "cell_type": "code",
   "execution_count": 27,
   "metadata": {
    "collapsed": false
   },
   "outputs": [
    {
     "name": "stdout",
     "output_type": "stream",
     "text": [
      "max cap gain over oaa: 2.31337798105\n"
     ]
    },
    {
     "data": {
      "image/png": "[encoded data removed]",
      "text/plain": [
       "<matplotlib.figure.Figure at 0x113371a10>"
      ]
     },
     "metadata": {},
     "output_type": "display_data"
    }
   ],
   "source": [
    "\"\"\"\n",
    "ALEXNET FEATURE EXTRACTION\n",
    "\"\"\"\n",
    "\n",
    "import numpy as np\n",
    "import matplotlib.pyplot as plt\n",
    "from matplotlib.pyplot import cm\n",
    "import matplotlib.patches as mpatches\n",
    "\n",
    "import matplotlib as mpl\n",
    "mpl.rcParams['xtick.labelsize'] = 12\n",
    "mpl.rcParams['ytick.labelsize'] = 12\n",
    "mpl.rcParams['legend.fontsize'] = 12\n",
    "mpl.rcParams['pdf.fonttype'] = 42\n",
    "mpl.rcParams['ps.fonttype'] = 42\n",
    "\n",
    "\n",
    "cmap_cap = plt.get_cmap('Oranges')\n",
    "cmap_oaa = plt.get_cmap('Greens')\n",
    "cmap_spa = plt.get_cmap('Blues')\n",
    "\n",
    "num_cnn = 10\n",
    "l_img = (np.arange(num_cnn)+10)*16.\n",
    "\n",
    "cap = np.load('../config_cnn/AlexNet_limg_sweep/CaP_complexity.npy')\n",
    "oaa = np.load('../config_cnn/AlexNet_limg_sweep/OaA_complexity.npy')\n",
    "spa = np.load('../config_cnn/AlexNet_limg_sweep/SPA_complexity.npy')\n",
    "\n",
    "num_layers = cap.shape[0]\n",
    "colors_cap = [cmap_cap(i) for i in np.linspace(0.3,0.8,num_layers)]\n",
    "colors_oaa = [cmap_oaa(i) for i in np.linspace(0.3,0.8,num_layers)]\n",
    "colors_spa = [cmap_spa(i) for i in np.linspace(0.3,0.8,num_layers)]\n",
    "\n",
    "bottom_cap = np.array([0.]*num_cnn)\n",
    "bottom_oaa = np.array([0.]*num_cnn)\n",
    "bottom_spa = np.array([0.]*num_cnn)\n",
    "width = 4\n",
    "for li in range(num_layers):\n",
    "    plt.bar(l_img-width,cap[li],width,color=colors_cap[li],bottom=bottom_cap)\n",
    "    plt.bar(l_img,oaa[li],width,color=colors_oaa[li],bottom=bottom_oaa)\n",
    "    plt.bar(l_img+width,spa[li],width,color=colors_spa[li],bottom=bottom_spa)\n",
    "    bottom_cap += cap[li]\n",
    "    bottom_oaa += oaa[li]\n",
    "    bottom_spa += spa[li]\n",
    "    if li == 3:\n",
    "        print 'max cap gain over oaa: {}'.format(bottom_oaa[5]/bottom_cap[5])\n",
    "\n",
    "plt.xticks(l_img,['{}\\n({})'.format(i+10,int(li)) for i,li in enumerate(l_img)])\n",
    "plt.xlabel('Image size',fontsize=16)\n",
    "plt.ylabel('Number of Operations',fontsize=16)\n",
    "plt.title('AlexNet',fontsize=18)\n",
    "\n",
    "cap_patch = mpatches.Patch(color=colors_cap[2], label='CaP')\n",
    "oaa_patch = mpatches.Patch(color=colors_oaa[2], label='OaA')\n",
    "spa_patch = mpatches.Patch(color=colors_spa[2], label='Spatial')\n",
    "plt.legend(handles=[cap_patch,oaa_patch,spa_patch])\n",
    "plt.show()\n",
    "#plt.savefig('../writing/FPGA18_acc/alexnet_cap1.pdf',format='pdf',dpi=300,bbox_inches='tight')\n",
    "# N=240, 2.313x\n",
    "# d = 6 12 1 2 1 5 4 6 5 2"
   ]
  },
  {
   "cell_type": "code",
   "execution_count": 33,
   "metadata": {
    "collapsed": false
   },
   "outputs": [],
   "source": [
    "\"\"\"\n",
    "ALEXNET FEATURE EXTRACTION\n",
    "\"\"\"\n",
    "\n",
    "import numpy as np\n",
    "import matplotlib.pyplot as plt\n",
    "from matplotlib.pyplot import cm\n",
    "import matplotlib.patches as mpatches\n",
    "\n",
    "import matplotlib as mpl\n",
    "mpl.rcParams['xtick.labelsize'] = 14\n",
    "mpl.rcParams['ytick.labelsize'] = 14\n",
    "mpl.rcParams['legend.fontsize'] = 14\n",
    "mpl.rcParams['pdf.fonttype'] = 42\n",
    "mpl.rcParams['ps.fonttype'] = 42\n",
    "\n",
    "\n",
    "cmap_alexnet = plt.get_cmap('Oranges')\n",
    "cmap_vgg16 = plt.get_cmap('Greens')\n",
    "cmap_fcn16s = plt.get_cmap('Blues')\n",
    "\n",
    "colors_alexnet = [cmap_alexnet(i) for i in np.linspace(0.3,0.8,10)]\n",
    "colors_vgg16 = [cmap_vgg16(i) for i in np.linspace(0.3,0.8,10)]\n",
    "colors_fcn16s = [cmap_fcn16s(i) for i in np.linspace(0.3,0.8,10)]\n",
    "\n",
    "\n",
    "num_cnn = 10\n",
    "l_img = (np.arange(num_cnn)+10)*16.\n",
    "\n",
    "# fold: \n",
    "alexnet_cap = np.array(np.array([658.8,664.6,723.2,754.4,770.4,726.4,749.6,748.2,751.0,745.9]))\n",
    "alexnet_oaa = np.array(np.array([502.2,607.7,723.2,664.2,770.4,312.9,356.0,401.9,450.6,453.3]))\n",
    "# fold: \n",
    "vgg16_cap = np.array([586.9,593.8,599.7,604.7,669.1,612.8,616.2,619.1,621.8,624.2])\n",
    "vgg16_oaa = np.array([470.8,458.1,534.5,589.1,669.1,411.6,450.0,501.3,492.0,541.2])\n",
    "# fold: \n",
    "fcn16s_cap = np.array([501.8,509.4,525.0,530.9,542.5,547.1,550.7,554.1,569.9,562.1])\n",
    "fcn16s_oaa = np.array([325.8,295.6,348.9,388.5,445.0,413.3,446.8,497.2,486.4,534.6])\n",
    "\n",
    "#alexnet_cap_avg = [alexnet_cap.sum()/len(alexnet_cap)]*len(alexnet_cap)\n",
    "#alexnet_oaa_avg = [alexnet_oaa.sum()/len(alexnet_oaa)]*len(alexnet_oaa)\n",
    "#vgg16_cap_avg = [vgg16_cap.sum()/len(vgg16_cap)]*len(vgg16_cap)\n",
    "#vgg16_oaa_avg = [vgg16_oaa.sum()/len(vgg16_oaa)]*len(vgg16_oaa)\n",
    "#fcn16s_cap_avg = [fcn16s_cap.sum()/len(fcn16s_cap)]*len(fcn16s_cap)\n",
    "#fcn16s_oaa_avg = [fcn16s_oaa.sum()/len(fcn16s_oaa)]*len(fcn16s_oaa)\n",
    "\n",
    "width = 4\n",
    "plt.plot(l_img,alexnet_cap,color=colors_alexnet[5],marker='o',linestyle='-',markersize=8)\n",
    "plt.plot(l_img,alexnet_oaa,color=colors_alexnet[5],marker='^',linestyle='--',markersize=8)\n",
    "plt.plot(l_img,vgg16_cap,color=colors_vgg16[5],marker='o',linestyle='-',markersize=8)\n",
    "plt.plot(l_img,vgg16_oaa,color=colors_vgg16[5],marker='^',linestyle='--',markersize=8)\n",
    "plt.plot(l_img,fcn16s_cap,color=colors_fcn16s[5],marker='o',linestyle='-',markersize=8)\n",
    "plt.plot(l_img,fcn16s_oaa,color=colors_fcn16s[5],marker='^',linestyle='--',markersize=8)\n",
    "\n",
    "plt.xticks(l_img,[str(int(i)) for i in l_img])\n",
    "plt.xlabel(r'Image size (Last layer $l_{img}$)',fontsize=16)\n",
    "plt.ylabel('Throughput (GOPS)',fontsize=16)\n",
    "plt.xticks(l_img,['{}'.format(i+10) for i,li in enumerate(l_img)])\n",
    "\n",
    "alexnet_patch = mpatches.Patch(color=colors_alexnet[5], label='AlexNet')\n",
    "vgg16_patch = mpatches.Patch(color=colors_vgg16[5], label='VGG16')\n",
    "fcn16s_patch = mpatches.Patch(color=colors_fcn16s[5], label='FCN-16s')\n",
    "\n",
    "axes = plt.gca()\n",
    "axes.set_ylim([0,850])\n",
    "#plt.legend(handles=[alexnet_patch,vgg16_patch,fcn16s_patch])\n",
    "plt.legend(['AlexNet\\nCaP-OaA','AlexNet\\nOaA','VGG16\\nCaP-OaA','VGG16\\nOaA','FCN16s\\nCaP-OaA','FCN16s\\nOaA'],\n",
    "           bbox_to_anchor=(1., 1.03),handlelength=3,fontsize=14)\n",
    "#plt.show()\n",
    "plt.savefig('../writing/FPGA18_acc/throughput_cap.pdf',format='pdf',dpi=300,bbox_inches='tight')"
   ]
  },
  {
   "cell_type": "code",
   "execution_count": null,
   "metadata": {
    "collapsed": true
   },
   "outputs": [],
   "source": []
  },
  {
   "cell_type": "code",
   "execution_count": 41,
   "metadata": {
    "collapsed": false
   },
   "outputs": [
    {
     "name": "stdout",
     "output_type": "stream",
     "text": [
      "max cap gain over oaa: 1.4994956467\n"
     ]
    },
    {
     "data": {
      "image/png": "[encoded data removed]",
      "text/plain": [
       "<matplotlib.figure.Figure at 0x117daba90>"
      ]
     },
     "metadata": {},
     "output_type": "display_data"
    }
   ],
   "source": [
    "\"\"\"\n",
    "VGG16 FEATURE EXTRACTION\n",
    "\"\"\"\n",
    "\n",
    "import numpy as np\n",
    "import matplotlib.pyplot as plt\n",
    "from matplotlib.pyplot import cm\n",
    "import matplotlib.patches as mpatches\n",
    "\n",
    "import matplotlib as mpl\n",
    "mpl.rcParams['xtick.labelsize'] = 12\n",
    "mpl.rcParams['ytick.labelsize'] = 12\n",
    "mpl.rcParams['legend.fontsize'] = 12\n",
    "mpl.rcParams['pdf.fonttype'] = 42\n",
    "mpl.rcParams['ps.fonttype'] = 42\n",
    "\n",
    "\n",
    "cmap_cap = plt.get_cmap('Oranges')\n",
    "cmap_oaa = plt.get_cmap('Greens')\n",
    "cmap_spa = plt.get_cmap('Blues')\n",
    "\n",
    "num_cnn = 10\n",
    "l_img = (np.arange(num_cnn)+10)*16.\n",
    "\n",
    "cap = np.load('../config_cnn/VGG16_limg_sweep/CaP_complexity.npy')\n",
    "oaa = np.load('../config_cnn/VGG16_limg_sweep/OaA_complexity.npy')\n",
    "spa = np.load('../config_cnn/VGG16_limg_sweep/SPA_complexity.npy')\n",
    "\n",
    "num_layers = cap.shape[0]\n",
    "colors_cap = [cmap_cap(i) for i in np.linspace(0.2,1.0,num_layers)]\n",
    "colors_oaa = [cmap_oaa(i) for i in np.linspace(0.2,1.0,num_layers)]\n",
    "colors_spa = [cmap_spa(i) for i in np.linspace(0.2,1.0,num_layers)]\n",
    "\n",
    "\n",
    "bottom_cap = np.array([0.]*num_cnn)\n",
    "bottom_oaa = np.array([0.]*num_cnn)\n",
    "bottom_spa = np.array([0.]*num_cnn)\n",
    "width = 4\n",
    "for li in range(num_layers):\n",
    "    plt.bar(l_img-width,cap[li],width,color=colors_cap[li],bottom=bottom_cap)\n",
    "    plt.bar(l_img,oaa[li],width,color=colors_oaa[li],bottom=bottom_oaa)\n",
    "    plt.bar(l_img+width,spa[li],width,color=colors_spa[li],bottom=bottom_spa)\n",
    "    bottom_cap += cap[li]\n",
    "    bottom_oaa += oaa[li]\n",
    "    bottom_spa += spa[li]\n",
    "    if li == 12:\n",
    "        print 'max cap gain over oaa: {}'.format(bottom_oaa[5]/bottom_cap[5])\n",
    "    \n",
    "plt.xticks(l_img,['{}\\n({})'.format(i+10,int(li)) for i,li in enumerate(l_img)])\n",
    "plt.xlabel('Image size',fontsize=16)\n",
    "plt.ylabel('Number of Operations',fontsize=16)\n",
    "plt.title('VGG16',fontsize=18)\n",
    "\n",
    "cap_patch = mpatches.Patch(color=colors_cap[7], label='CaP-OaA')\n",
    "oaa_patch = mpatches.Patch(color=colors_oaa[7], label='OaA')\n",
    "spa_patch = mpatches.Patch(color=colors_spa[7], label='Spatial')\n",
    "plt.legend(handles=[cap_patch,oaa_patch,spa_patch])\n",
    "#plt.savefig('../writing/FPGA18_acc/vgg16_cap1.pdf',format='pdf',dpi=300,bbox_inches='tight')\n",
    "plt.show()\n",
    "\n",
    "# N=240, 1.499x\n",
    "# d = 7 14 7 14 1 14 7 14 7 14"
   ]
  },
  {
   "cell_type": "code",
   "execution_count": null,
   "metadata": {
    "collapsed": true
   },
   "outputs": [],
   "source": []
  },
  {
   "cell_type": "code",
   "execution_count": 47,
   "metadata": {
    "collapsed": false
   },
   "outputs": [
    {
     "name": "stdout",
     "output_type": "stream",
     "text": [
      "max cap gain over oaa: 1.7307523777\n"
     ]
    },
    {
     "data": {
      "image/png": "[encoded data removed]",
      "text/plain": [
       "<matplotlib.figure.Figure at 0x11886dcd0>"
      ]
     },
     "metadata": {},
     "output_type": "display_data"
    }
   ],
   "source": [
    "\"\"\"\n",
    "FCN-16s segmentation\n",
    "\"\"\"\n",
    "\n",
    "import numpy as np\n",
    "import matplotlib.pyplot as plt\n",
    "from matplotlib.pyplot import cm\n",
    "import matplotlib.patches as mpatches\n",
    "\n",
    "import matplotlib as mpl\n",
    "mpl.rcParams['xtick.labelsize'] = 12\n",
    "mpl.rcParams['ytick.labelsize'] = 12\n",
    "mpl.rcParams['legend.fontsize'] = 12\n",
    "mpl.rcParams['pdf.fonttype'] = 42\n",
    "mpl.rcParams['ps.fonttype'] = 42\n",
    "\n",
    "\n",
    "cmap_cap = plt.get_cmap('Oranges')\n",
    "cmap_oaa = plt.get_cmap('Greens')\n",
    "cmap_spa = plt.get_cmap('Blues')\n",
    "\n",
    "num_cnn = 10\n",
    "l_img = (np.arange(num_cnn)+10)*32.\n",
    "\n",
    "cap = np.load('../config_cnn/FCN16s_limg_sweep/CaP_complexity.npy')\n",
    "oaa = np.load('../config_cnn/FCN16s_limg_sweep/OaA_complexity.npy')\n",
    "spa = np.load('../config_cnn/FCN16s_limg_sweep/SPA_complexity.npy')\n",
    "\n",
    "num_layers = cap.shape[0]\n",
    "colors_cap = [cmap_cap(i) for i in np.linspace(0.2,1.0,num_layers)]\n",
    "colors_oaa = [cmap_oaa(i) for i in np.linspace(0.2,1.0,num_layers)]\n",
    "colors_spa = [cmap_spa(i) for i in np.linspace(0.2,1.0,num_layers)]\n",
    "\n",
    "\n",
    "#import pdb;pdb.set_trace()\n",
    "bottom_cap = np.array([0.]*num_cnn)\n",
    "bottom_oaa = np.array([0.]*num_cnn)\n",
    "bottom_spa = np.array([0.]*num_cnn)\n",
    "width = 8\n",
    "for li in range(num_layers):\n",
    "    plt.bar(l_img-width,cap[li],width,color=colors_cap[li],bottom=bottom_cap)\n",
    "    plt.bar(l_img,oaa[li],width,color=colors_oaa[li],bottom=bottom_oaa)\n",
    "    plt.bar(l_img+width,spa[li],width,color=colors_spa[li],bottom=bottom_spa)\n",
    "    bottom_cap += cap[li]\n",
    "    bottom_oaa += oaa[li]\n",
    "    bottom_spa += spa[li]\n",
    "    if li == 17:\n",
    "        print 'max cap gain over oaa: {}'.format(bottom_oaa[1]/bottom_cap[1])\n",
    "\n",
    "\n",
    "plt.xticks(l_img,['{}\\n({})'.format(i+10,int(li)) for i,li in enumerate(l_img)])\n",
    "plt.xlabel('Image size',fontsize=16)\n",
    "plt.ylabel('Number of Operations',fontsize=16)\n",
    "plt.title('FCN-16s',fontsize=18)\n",
    "\n",
    "cap_patch = mpatches.Patch(color=colors_cap[10], label='CaP-OaA')\n",
    "oaa_patch = mpatches.Patch(color=colors_oaa[10], label='OaA')\n",
    "spa_patch = mpatches.Patch(color=colors_spa[10], label='Spatial')\n",
    "plt.legend(handles=[cap_patch,oaa_patch,spa_patch])\n",
    "plt.show()\n",
    "#plt.savefig('../writing/FPGA18_acc/fcn16s_cap1.pdf',format='pdf',dpi=300,bbox_inches='tight')\n",
    "# N=352: 1.73x\n",
    "# d = 12 12 2 9 8 14 3 13 4 11"
   ]
  },
  {
   "cell_type": "code",
   "execution_count": 14,
   "metadata": {
    "collapsed": true
   },
   "outputs": [],
   "source": [
    "import numpy as np\n",
    "\n",
    "### fin,fout,limg,lkern,N,folding for FDCNN\n",
    "### fin,fout,limg,lkern,stride,padding for spatial conv\n",
    "AlexNet = np.array(\n",
    "    [[96,256,27,5,0,1],\n",
    "    [256,384,13,3,0,1],\n",
    "    [384,384,13,3,0,1],\n",
    "    [384,256,13,3,0,1]])\n",
    "\n",
    "VGG16 = np.array(\n",
    "    [[3,64,224,3,0,1],\n",
    "    [64,64,224,3,0,1],\n",
    "    [64,128,112,3,0,1],\n",
    "    [128,128,112,3,0,1],\n",
    "    [128,256,56,3,0,1],\n",
    "    [256,256,56,3,0,1],\n",
    "    [256,256,56,3,0,1],\n",
    "    [256,512,28,3,0,1],\n",
    "    [512,512,28,3,0,1],\n",
    "    [512,512,28,3,0,1],\n",
    "    [512,512,14,3,0,1],\n",
    "    [512,512,14,3,0,1],\n",
    "    [512,512,14,3,0,1]])\n",
    "     \n",
    "FCN = np.array(\n",
    "    [[3,64,500,3,0,1],\n",
    "    [64,64,500,3,0,1],\n",
    "    [64,128,250,3,0,1],\n",
    "    [128,128,250,3,0,1],\n",
    "    [128,256,125,3,0,1],\n",
    "    [256,256,125,3,0,1],\n",
    "    [256,256,125,3,0,1],\n",
    "    [256,512,63,3,0,1],\n",
    "    [512,512,63,3,0,1],\n",
    "    [512,512,63,3,0,1],\n",
    "    [512,512,32,3,0,1],\n",
    "    [512,512,32,3,0,1],\n",
    "    [512,512,32,3,0,1],\n",
    "    [512,4096,16,7,0,1],\n",
    "    [4096,4096,10,1,0,1],\n",
    "    [4096,21,10,1,0,1],\n",
    "    [21,21,22,4,0,1],\n",
    "    [512,21,32,1,0,1]])"
   ]
  },
  {
   "cell_type": "code",
   "execution_count": 55,
   "metadata": {
    "collapsed": false
   },
   "outputs": [
    {
     "data": {
      "image/png": "[encoded data removed]",
      "text/plain": [
       "<matplotlib.figure.Figure at 0x1190808d0>"
      ]
     },
     "metadata": {},
     "output_type": "display_data"
    }
   ],
   "source": [
    "import sys\n",
    "sys.path.insert(0,'../../../lib_py')\n",
    "sys.path.insert(0,'../py_dse')\n",
    "import numpy as np\n",
    "import matplotlib.pyplot as plt\n",
    "from matplotlib.pyplot import cm\n",
    "import matplotlib.patches as mpatches\n",
    "\n",
    "from matplotlib import rc\n",
    "rc('font',**{'family':'serif','serif':['Times New Roman']})\n",
    "\n",
    "import matplotlib as mpl\n",
    "mpl.rcParams['xtick.labelsize'] = 12\n",
    "mpl.rcParams['ytick.labelsize'] = 12\n",
    "mpl.rcParams['legend.fontsize'] = 12\n",
    "mpl.rcParams['pdf.fonttype'] = 42\n",
    "mpl.rcParams['ps.fonttype'] = 42\n",
    "\n",
    "\n",
    "\n",
    "cmap_autumn = plt.get_cmap('autumn')\n",
    "cmap_R = plt.get_cmap('Oranges')\n",
    "cmap_G = plt.get_cmap('Greens')\n",
    "cmap_B = plt.get_cmap('Blues')\n",
    "\n",
    "num_color = 10\n",
    "colors_autumn = [cmap_autumn(i) for i in np.linspace(0,1,num_color)]\n",
    "colors_R = [cmap_R(i) for i in np.linspace(0.1,0.8,num_color)]\n",
    "colors_G = [cmap_G(i) for i in np.linspace(0.1,0.8,num_color)]\n",
    "colors_B = [cmap_B(i) for i in np.linspace(0.1,0.8,num_color)]\n",
    "\n",
    "\n",
    "# complexity: 8,16,32,64\n",
    "AlexNet_complexity = np.array([0.58, 0.31, 0.80, 3.20])\n",
    "VGG16_complexity = np.array([0.47, 0.30, 0.38, 0.98])\n",
    "FCN16s_complexity = np.array([0.67, 0.44, 0.83, 2.31])\n",
    "\n",
    "N_label = [8,16,32,64]\n",
    "N_loc = np.array([1,2,3,4])\n",
    "width = 0.22\n",
    "color_selected = [3,5,7]\n",
    "\n",
    "fig,ax = plt.subplots()\n",
    "rect1 = ax.bar(N_loc-width,AlexNet_complexity,width,color=colors_autumn[color_selected[0]])\n",
    "rect2 = ax.bar(N_loc,VGG16_complexity,width,color=colors_autumn[color_selected[1]])\n",
    "rect3 = ax.bar(N_loc+width,FCN16s_complexity,width,color=colors_autumn[color_selected[2]])\n",
    "\n",
    "plt.xticks(N_loc,['8','16','32','64'])\n",
    "ax.set_yticks([0,0.5,1.0,1.5,2,2.5,3.0,3.5])\n",
    "#plt.axes().set_aspect(1.0)\n",
    "#plt.title('OaA Computation Complexity for Various N')\n",
    "ax.set_xlabel('FFT Size N',fontsize=14)\n",
    "ax.set_ylabel('Normalized Number of Operations',fontsize=14)\n",
    "ax.legend([rect1[0],rect2[0],rect3[0]],['AlexNet','VGG16','FCN-16s'])\n",
    "ax.set_ylim([0,3.7])\n",
    "\n",
    "def autolabel(rects):\n",
    "    \"\"\"\n",
    "    Attach a text label above each bar displaying its height\n",
    "    \"\"\"\n",
    "    for rect in rects:\n",
    "        height = rect.get_height()\n",
    "        ax.text(rect.get_x() + rect.get_width()/2., height+0.1,\n",
    "                '%3.2f' % height,\n",
    "                ha='center', va='bottom',rotation=90)\n",
    "plt.axhline(1,linestyle='dashed',color=colors_G[9],linewidth=1)\n",
    "\n",
    "autolabel(rect1)\n",
    "autolabel(rect2)\n",
    "autolabel(rect3)\n",
    "\n",
    "ax.set_aspect(1.182)\n",
    "plt.show()\n",
    "#plt.savefig('../writing/FPGA18_acc/oaa_complexity.pdf',format='pdf',dpi=300,bbox_inches='tight')"
   ]
  },
  {
   "cell_type": "code",
   "execution_count": 36,
   "metadata": {
    "collapsed": true
   },
   "outputs": [],
   "source": [
    "a = np.array([[1],[2]])"
   ]
  },
  {
   "cell_type": "code",
   "execution_count": 18,
   "metadata": {
    "collapsed": true
   },
   "outputs": [],
   "source": [
    "b = a.T"
   ]
  },
  {
   "cell_type": "code",
   "execution_count": 19,
   "metadata": {
    "collapsed": true
   },
   "outputs": [],
   "source": [
    "b[0] = 1"
   ]
  },
  {
   "cell_type": "code",
   "execution_count": 10,
   "metadata": {
    "collapsed": false
   },
   "outputs": [
    {
     "data": {
      "text/plain": [
       "0.87890625"
      ]
     },
     "execution_count": 10,
     "metadata": {},
     "output_type": "execute_result"
    }
   ],
   "source": [
    "30**2/32**2"
   ]
  },
  {
   "cell_type": "code",
   "execution_count": 78,
   "metadata": {
    "collapsed": false
   },
   "outputs": [
    {
     "data": {
      "image/png": "[encoded data removed]",
      "text/plain": [
       "<matplotlib.figure.Figure at 0x116923a10>"
      ]
     },
     "metadata": {},
     "output_type": "display_data"
    }
   ],
   "source": [
    "import numpy as np\n",
    "import matplotlib.pyplot as plt\n",
    "from matplotlib.pyplot import cm\n",
    "import matplotlib.patches as mpatches\n",
    "\n",
    "from matplotlib import rc\n",
    "rc('font',**{'family':'serif','serif':['Times New Roman']})\n",
    "\n",
    "import matplotlib as mpl\n",
    "mpl.rcParams['xtick.labelsize'] = 12\n",
    "mpl.rcParams['ytick.labelsize'] = 12\n",
    "mpl.rcParams['legend.fontsize'] = 12\n",
    "#mpl.rcParams['pdf.fonttype'] = 42\n",
    "#mpl.rcParams['ps.fonttype'] = 42\n",
    "mpl.rcParams['ps.useafm'] = True\n",
    "mpl.rcParams['pdf.use14corefonts'] = True\n",
    "mpl.rcParams['text.usetex'] = True\n",
    "\n",
    "cmap_orange = plt.get_cmap('Oranges')\n",
    "cmap_green = plt.get_cmap('Greens')\n",
    "cmap_blue = plt.get_cmap('Blues')\n",
    "\n",
    "colors_orange = [cmap_orange(i) for i in np.linspace(0.1,0.9,10)]\n",
    "colors_green = [cmap_green(i) for i in np.linspace(0.1,0.9,10)]\n",
    "colors_blue = [cmap_blue(i) for i in np.linspace(0.1,0.9,10)]\n",
    "\n",
    "\n",
    "limg = np.array(range(2,100))#.astype(np.float)\n",
    "lkern = 3.\n",
    "\n",
    "oaa = lambda _N,_limg: (np.ceil(_limg/(_N-lkern+1))*_N/(_limg+lkern-1))**2\n",
    "\n",
    "cap = lambda _N,limg: [1./(1.-(lkern-1)/_N)**2]*len(limg)\n",
    "\n",
    "native = lambda limg: [1.]*len(limg)\n",
    "\n",
    "fig,ax = plt.subplots()\n",
    "\n",
    "N = 16.\n",
    "ax.plot(limg,oaa(N,limg),color=colors_blue[6],label='OaA N=16')\n",
    "#ax.plot(limg,cap(N,limg),color=colors_blue[6])\n",
    "ax.fill_between(limg,cap(N,limg),native(limg),facecolor=colors_blue[3],label='CaP-OaA N=16')\n",
    "\n",
    "N = 32.\n",
    "ax.plot(limg,oaa(N,limg),color=colors_orange[6],label='OaA N=32')\n",
    "#ax.plot(limg,cap(N,limg),color=colors_orange[6])\n",
    "ax.fill_between(limg,cap(N,limg),native(limg),facecolor=colors_orange[3],label='CaP-OaA N=32')\n",
    "\n",
    "ax.plot(limg,native(limg),color=colors_green[6],label='Native\\nAny N',linewidth=2.5)\n",
    "\n",
    "#plt.savefig('../writing/FPGA18_sub/cap_algo_compare.pdf')\n",
    "ax.set_ylim([0,3.1])\n",
    "ax.set_xlim([0,100])\n",
    "\n",
    "handles,labels = ax.get_legend_handles_labels()\n",
    "handles = [handles[0],handles[3],handles[1],handles[4],handles[2]]\n",
    "labels = [labels[0],labels[3],labels[1],labels[4],labels[2]]\n",
    "\n",
    "ax.set_xlabel(r'$l_{img}$',fontsize=14)\n",
    "ax.set_ylabel('Normalized computation complexity',fontsize=14)\n",
    "\n",
    "plt.legend(handles,labels,ncol=3)\n",
    "\n",
    "\n",
    "fig.set_tight_layout({\"pad\": 1.})\n",
    "plt.show()\n",
    "#plt.savefig('../writing/FPGA18_acc/cap_oaa_native.pdf',format='pdf',dpi=300)"
   ]
  },
  {
   "cell_type": "code",
   "execution_count": null,
   "metadata": {
    "collapsed": true
   },
   "outputs": [],
   "source": []
  },
  {
   "cell_type": "code",
   "execution_count": 76,
   "metadata": {
    "collapsed": false
   },
   "outputs": [
    {
     "data": {
      "image/png": "[encoded data removed]",
      "text/plain": [
       "<matplotlib.figure.Figure at 0x11781f1d0>"
      ]
     },
     "metadata": {},
     "output_type": "display_data"
    },
    {
     "data": {
      "image/png": "[encoded data removed]",
      "text/plain": [
       "<matplotlib.figure.Figure at 0x118ae7cd0>"
      ]
     },
     "metadata": {},
     "output_type": "display_data"
    },
    {
     "data": {
      "image/png": "[encoded data removed]",
      "text/plain": [
       "<matplotlib.figure.Figure at 0x11af6b610>"
      ]
     },
     "metadata": {},
     "output_type": "display_data"
    }
   ],
   "source": [
    "import sys\n",
    "sys.path.insert(0,'../../../lib_py')\n",
    "sys.path.insert(0,'../py_dse')\n",
    "import numpy as np\n",
    "import matplotlib.pyplot as plt\n",
    "from matplotlib.pyplot import cm\n",
    "import matplotlib.patches as mpatches\n",
    "\n",
    "from matplotlib import rc\n",
    "rc('font',**{'family':'serif','serif':['Times New Roman']})\n",
    "\n",
    "import matplotlib as mpl\n",
    "mpl.rcParams['xtick.labelsize'] = 12\n",
    "mpl.rcParams['ytick.labelsize'] = 12\n",
    "mpl.rcParams['legend.fontsize'] = 12\n",
    "#mpl.rcParams['pdf.fonttype'] = 42\n",
    "#mpl.rcParams['ps.fonttype'] = 42\n",
    "mpl.rcParams['ps.useafm'] = True\n",
    "mpl.rcParams['pdf.use14corefonts'] = True\n",
    "mpl.rcParams['text.usetex'] = True\n",
    "\n",
    "#mpl.rcParams['image.aspect'] = 0.2\n",
    "#rc('text', usetex=True)\n",
    "\n",
    "cmap_autumn = plt.get_cmap('autumn')\n",
    "cmap_R = plt.get_cmap('Oranges')\n",
    "cmap_G = plt.get_cmap('Greens')\n",
    "cmap_B = plt.get_cmap('Blues')\n",
    "\n",
    "num_color = 10\n",
    "colors_autumn = [cmap_autumn(i) for i in np.linspace(0,1,num_color)]\n",
    "colors_R = [cmap_R(i) for i in np.linspace(0.1,0.8,num_color)]\n",
    "colors_G = [cmap_G(i) for i in np.linspace(0.1,0.8,num_color)]\n",
    "colors_B = [cmap_B(i) for i in np.linspace(0.1,0.8,num_color)]\n",
    "\n",
    "\n",
    "# complexity: 8,16,32,64\n",
    "AlexNet_complexity = np.array([0.45, 0.27, 0.24, 0.23])\n",
    "VGG16_complexity = np.array([0.44, 0.30, 0.29, 0.27])\n",
    "FCN16s_complexity = np.array([0.59, 0.36, 0.31, 0.29])\n",
    "\n",
    "N_label = [8,16,32,64]\n",
    "N_loc = np.array([1,2,3,4])\n",
    "width = 0.22\n",
    "color_selected = [3,5,7]\n",
    "\n",
    "fig,ax = plt.subplots()\n",
    "rect1 = ax.bar(N_loc-width,AlexNet_complexity,width,color=colors_autumn[color_selected[0]])\n",
    "rect2 = ax.bar(N_loc,VGG16_complexity,width,color=colors_autumn[color_selected[1]])\n",
    "rect3 = ax.bar(N_loc+width,FCN16s_complexity,width,color=colors_autumn[color_selected[2]])\n",
    "plt.xticks(N_loc,['8','16','32','64'])\n",
    "ax.set_yticks([0,0.25,0.5,0.75,1])\n",
    "ax.set_xlabel('FFT Size N',fontsize=14)\n",
    "#ax.set_ylabel('Normalized Number of Ops',fontsize=14)\n",
    "ax.legend([rect1[0],rect2[0],rect3[0]],['AlexNet','VGG16','FCN-16s'],bbox_to_anchor=(.98,0.91))\n",
    "ax.set_ylim([0,1.05])\n",
    "\n",
    "def autolabel(rects):\n",
    "    \"\"\"\n",
    "    Attach a text label above each bar displaying its height\n",
    "    \"\"\"\n",
    "    for rect in rects:\n",
    "        height = rect.get_height()\n",
    "        ax.text(rect.get_x() + rect.get_width()/2., height+0.03,\n",
    "                '%3.2f' % height,\n",
    "                ha='center', va='bottom',rotation=90)\n",
    "plt.axhline(1,linestyle='dashed',color=colors_G[9],linewidth=1)\n",
    "\n",
    "autolabel(rect1)\n",
    "autolabel(rect2)\n",
    "autolabel(rect3)\n",
    "\n",
    "ax.set_aspect(4.4)\n",
    "plt.show()\n",
    "#plt.savefig('../writing/FPGA18_acc/cap_complexity.pdf',format='pdf',dpi=300,bbox_inches='tight')"
   ]
  },
  {
   "cell_type": "code",
   "execution_count": null,
   "metadata": {
    "collapsed": true
   },
   "outputs": [],
   "source": []
  }
 ],
 "metadata": {
  "kernelspec": {
   "display_name": "Python 2",
   "language": "python",
   "name": "python2"
  },
  "language_info": {
   "codemirror_mode": {
    "name": "ipython",
    "version": 2
   },
   "file_extension": ".py",
   "mimetype": "text/x-python",
   "name": "python",
   "nbconvert_exporter": "python",
   "pygments_lexer": "ipython2",
   "version": "2.7.13"
  }
 },
 "nbformat": 4,
 "nbformat_minor": 2
}
